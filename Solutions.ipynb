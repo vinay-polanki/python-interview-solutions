{
 "cells": [
  {
   "cell_type": "markdown",
   "id": "cbcf7581-c210-43bc-a6a7-183260e73138",
   "metadata": {},
   "source": [
    "# **Solutions for Python Interview Questions**"
   ]
  },
  {
   "cell_type": "code",
   "execution_count": 1,
   "id": "e2f50766-6b48-4857-8218-09676653ed15",
   "metadata": {},
   "outputs": [
    {
     "name": "stdin",
     "output_type": "stream",
     "text": [
      "Enter a Number or done to exit:  1\n"
     ]
    },
    {
     "name": "stdout",
     "output_type": "stream",
     "text": [
      "+ Ve Number\n"
     ]
    },
    {
     "name": "stdin",
     "output_type": "stream",
     "text": [
      "Enter a Number or done to exit:  -1\n"
     ]
    },
    {
     "name": "stdout",
     "output_type": "stream",
     "text": [
      "-ve number\n"
     ]
    },
    {
     "name": "stdin",
     "output_type": "stream",
     "text": [
      "Enter a Number or done to exit:  0\n"
     ]
    },
    {
     "name": "stdout",
     "output_type": "stream",
     "text": [
      "Nuetral\n"
     ]
    },
    {
     "name": "stdin",
     "output_type": "stream",
     "text": [
      "Enter a Number or done to exit:  done\n"
     ]
    },
    {
     "name": "stdout",
     "output_type": "stream",
     "text": [
      "Exiting the loop\n"
     ]
    }
   ],
   "source": [
    "# To check is number is + ve or - ve or nuetral\n",
    "while True:    \n",
    "    Num_user= input(\"Enter a Number or done to exit: \")\n",
    "    if Num_user.lower() == 'done':\n",
    "        print(\"Exiting the loop\")\n",
    "        break\n",
    "\n",
    "    try: \n",
    "       Num=float(Num_user)\n",
    "       if Num == 0:\n",
    "            print(\"Nuetral\")\n",
    "       elif Num > 0:\n",
    "            print(\"+ Ve Number\")\n",
    "       else:\n",
    "            print(\"-ve number\")\n",
    "    except:\n",
    "        print(\"Invalid Input; Please Enter a Number or done to exit\")"
   ]
  },
  {
   "cell_type": "code",
   "execution_count": 45,
   "id": "53d13994-eac9-4b2b-87c7-b7d296d7f874",
   "metadata": {},
   "outputs": [
    {
     "name": "stdin",
     "output_type": "stream",
     "text": [
      "Enter a number or done to exit:  4\n"
     ]
    },
    {
     "name": "stdout",
     "output_type": "stream",
     "text": [
      "4.0 is a Even Number\n"
     ]
    },
    {
     "name": "stdin",
     "output_type": "stream",
     "text": [
      "Enter a number or done to exit:  6\n"
     ]
    },
    {
     "name": "stdout",
     "output_type": "stream",
     "text": [
      "6.0 is a Even Number\n"
     ]
    },
    {
     "name": "stdin",
     "output_type": "stream",
     "text": [
      "Enter a number or done to exit:  7\n"
     ]
    },
    {
     "name": "stdout",
     "output_type": "stream",
     "text": [
      "7.0 is a Odd Number\n"
     ]
    },
    {
     "name": "stdin",
     "output_type": "stream",
     "text": [
      "Enter a number or done to exit:  done\n"
     ]
    },
    {
     "name": "stdout",
     "output_type": "stream",
     "text": [
      "\n",
      " ..................\n",
      " ..................\n",
      "\n",
      " Exiting the loop\n"
     ]
    }
   ],
   "source": [
    "#check number is even or odd\n",
    "\n",
    "while True:\n",
    "    Num_user = input(\"Enter a number or done to exit: \")\n",
    "\n",
    "    if Num_user == 'done':\n",
    "        print(2 * '\\n ..................')\n",
    "        print(\"\\n Exiting the loop\")\n",
    "        break\n",
    "\n",
    "    try:\n",
    "        num = float(Num_user)\n",
    "        if num % 2 == 0:\n",
    "            print(f\"{num} is a Even Number\")\n",
    "        else:\n",
    "            print(f\"{num} is a Odd Number\")\n",
    "    except ValueError:\n",
    "        print(\"Invalid Input, Try a Number or done to exit\")"
   ]
  },
  {
   "cell_type": "code",
   "execution_count": 11,
   "id": "edda7c00-e90d-4792-bed4-c023685d089e",
   "metadata": {},
   "outputs": [
    {
     "name": "stdin",
     "output_type": "stream",
     "text": [
      "Enter the Year you want to check or done to exit:  done\n"
     ]
    },
    {
     "name": "stdout",
     "output_type": "stream",
     "text": [
      "\n",
      " ..................\n",
      " ..................\n",
      "\n",
      " Exiting the loop\n"
     ]
    }
   ],
   "source": [
    "# year is leap or not\n",
    "def year_check(year)done:\n",
    "    while True:\n",
    "          year_user =input(\"Enter the Year you want to check or done to exit: \")\n",
    "          if year_user == 'done':\n",
    "               print(2 * '\\n ..................')\n",
    "               print(\"\\n Exiting the loop\")\n",
    "               break\n",
    "          try:      \n",
    "            year = int(year_user)\n",
    "            if ((year % 4 == 0) & (year % 100 != 0) or (year % 400 == 0)):\n",
    "                    print(f\"{year} is a leap-year\")\n",
    "            else:\n",
    "               print(f\"{year} is not a leap year\")\n",
    "          except ValueError:\n",
    "                  print(\"Invalid\")\n"
   ]
  },
  {
   "cell_type": "code",
   "execution_count": 2,
   "id": "905afddb-9e2c-4b5d-a6a1-447b0247d69f",
   "metadata": {},
   "outputs": [
    {
     "name": "stdout",
     "output_type": "stream",
     "text": [
      "4018\n"
     ]
    }
   ],
   "source": [
    "# Different methods of finding largest number\n",
    "l= [2,45,67,98,56,4,5,36,365,23,675,34,678,978,908,4018]\n",
    "print(max(l))"
   ]
  },
  {
   "cell_type": "code",
   "execution_count": 3,
   "id": "d389bea4-f306-4840-877b-8f4e26fc11de",
   "metadata": {},
   "outputs": [
    {
     "name": "stdin",
     "output_type": "stream",
     "text": [
      "Enter a Number:  345\n",
      "Enter a Number:  454\n",
      "Enter a Number:  3456\n"
     ]
    },
    {
     "name": "stdout",
     "output_type": "stream",
     "text": [
      "3456.0 is the largest number in three\n"
     ]
    }
   ],
   "source": [
    "\n",
    "# 2nd type to find out the largest number\n",
    "num1 = float(input(\"Enter a Number: \"))\n",
    "num2 = float(input(\"Enter a Number: \"))\n",
    "num3 = float(input(\"Enter a Number: \"))\n",
    "\n",
    "if num1>num2 and num1>num3:\n",
    "     largest = num1\n",
    "elif num2>num1 and num2>num3:\n",
    "     largest = num2\n",
    "else:\n",
    "    largest = num3 \n",
    "print(f\"{largest} is the largest number in three\")"
   ]
  },
  {
   "cell_type": "code",
   "execution_count": 30,
   "id": "2a4a813a-aec3-44b6-a5ad-31bf626125a5",
   "metadata": {},
   "outputs": [
    {
     "name": "stdout",
     "output_type": "stream",
     "text": [
      "Largest: 99\n",
      "Second Largest: 87\n"
     ]
    }
   ],
   "source": [
    "# 3rd Method to find the largest\n",
    "\n",
    "nums = [10, 45, 99, 23, 87]\n",
    "\n",
    "nums_sorted = sorted(nums, reverse=True)\n",
    "largest = nums_sorted[0]\n",
    "second_largest = nums_sorted[1]\n",
    "print(\"Largest:\", largest)\n",
    "print(\"Second Largest:\", second_largest)"
   ]
  },
  {
   "cell_type": "code",
   "execution_count": 31,
   "id": "2d218877-54ae-403a-8af8-ce7d2a6fca4f",
   "metadata": {},
   "outputs": [
    {
     "name": "stdout",
     "output_type": "stream",
     "text": [
      "Largest: 23443\n",
      "Second Largest: 3432\n"
     ]
    }
   ],
   "source": [
    "#4th method to find out\n",
    "nums = [12,34,556,3,23,455,3432,23443,234,2,3]\n",
    "\n",
    "largest = max(nums)\n",
    "nums.remove(largest)\n",
    "second_largest = max(nums)\n",
    "print(\"Largest:\", largest)\n",
    "print(\"Second Largest:\", second_largest)"
   ]
  },
  {
   "cell_type": "code",
   "execution_count": 14,
   "id": "7fe00e14-4c32-4b8b-b520-3934f3004d09",
   "metadata": {},
   "outputs": [
    {
     "name": "stdout",
     "output_type": "stream",
     "text": [
      "[567, 433, 356, 356, 66, 64, 56, 56, 56, 45, 34, 4, 4, 2]\n",
      "567\n",
      "433\n"
     ]
    }
   ],
   "source": [
    "# to find  largest and 2nd largest\n",
    "\n",
    "nums1 = [2,34,56,4,66,45,56,4,56,433,64,356,356,567]\n",
    "\n",
    "r1= sorted(nums1,reverse=True)\n",
    "print(r1)\n",
    "print(r1[0])\n",
    "print(r1[1])"
   ]
  },
  {
   "cell_type": "code",
   "execution_count": 2,
   "id": "6fb935cf-ebf9-4691-826c-8111c510436d",
   "metadata": {},
   "outputs": [
    {
     "name": "stdin",
     "output_type": "stream",
     "text": [
      "Enter a Name:  racecar\n"
     ]
    },
    {
     "name": "stdout",
     "output_type": "stream",
     "text": [
      "racecar is a Palidrome\n"
     ]
    },
    {
     "name": "stdin",
     "output_type": "stream",
     "text": [
      "Enter a Name:  done\n"
     ]
    },
    {
     "name": "stdout",
     "output_type": "stream",
     "text": [
      "==\n",
      "Exiting the loop\n"
     ]
    }
   ],
   "source": [
    "# Find whether the word is palidrome or not\n",
    "while True:\n",
    "    user_input = input(\"Enter a Name: \")\n",
    "\n",
    "    \n",
    "    if user_input == user_input[::-1]:\n",
    "        print(f\"{user_input} is a Palidrome\")\n",
    "    elif user_input == 'done':\n",
    "        print(2 * ('='))\n",
    "        print(\"Exiting the loop\")\n",
    "        break\n",
    "    else:\n",
    "        print(f\"{user_input} is not a palidrome\")"
   ]
  },
  {
   "cell_type": "code",
   "execution_count": 24,
   "id": "0b88370b-5650-4e89-afd9-92b45d803176",
   "metadata": {},
   "outputs": [
    {
     "name": "stdout",
     "output_type": "stream",
     "text": [
      "('A', 'r', 'j')\n",
      "('A', 'j', 'r')\n",
      "('r', 'A', 'j')\n",
      "('r', 'j', 'A')\n",
      "('j', 'A', 'r')\n",
      "('j', 'r', 'A')\n"
     ]
    }
   ],
   "source": [
    "# permutations of list or string\n",
    "\n",
    "import itertools\n",
    "data = ('Arj')\n",
    "\n",
    "perms = list(itertools.permutations(data))\n",
    "for p in perms:\n",
    "    print(p)"
   ]
  },
  {
   "cell_type": "code",
   "execution_count": 27,
   "id": "6788e7f8-4fe6-43c8-89a4-83c7900aaf98",
   "metadata": {},
   "outputs": [
    {
     "name": "stdout",
     "output_type": "stream",
     "text": [
      "10\n",
      "10\n",
      "10\n"
     ]
    }
   ],
   "source": [
    "# Write a Python function to sum all the numbers in a list.\n",
    "def sum(numbers):# function defination\n",
    "    total=0 # local variable\n",
    "    for x in numbers: #[1,2,3,4]\n",
    "        total+=x # total=total+x \n",
    "    return total \n",
    "    \n",
    "print(sum([1,2,3,4])) # function call\n",
    "\n",
    "s=[1,2,3,4]\n",
    "print(sum(s))\n",
    "p=sum(s)\n",
    "print(p)"
   ]
  },
  {
   "cell_type": "code",
   "execution_count": null,
   "id": "70b28d5d-fb30-497b-9b0d-c706733fee93",
   "metadata": {},
   "outputs": [],
   "source": []
  },
  {
   "cell_type": "code",
   "execution_count": 35,
   "id": "3942e481-8227-4d98-8a3d-a6930b3b687f",
   "metadata": {},
   "outputs": [
    {
     "name": "stdin",
     "output_type": "stream",
     "text": [
      "Enter a positive integer:  3\n"
     ]
    },
    {
     "name": "stdout",
     "output_type": "stream",
     "text": [
      "3 is a Prime Number\n"
     ]
    }
   ],
   "source": [
    "# Function to check whether number is \"Prime or Not\"\n",
    "\n",
    "num= int(input(\"Enter a positive integer: \"))\n",
    "\n",
    "def is_prime(num):\n",
    "    if num > 1:\n",
    "        for n in range(2,num):\n",
    "            if num % n == 0:\n",
    "                return f\"{num} is not a Prime Number\"\n",
    "        return f\"{num} is a Prime Number\"\n",
    "    return f\"{num} is not a prime number and positive integer\"\n",
    "\n",
    "\n",
    "print(is_prime(num))"
   ]
  },
  {
   "cell_type": "code",
   "execution_count": 22,
   "id": "1e06910f-ca28-40d3-8863-48af0521d74b",
   "metadata": {},
   "outputs": [
    {
     "name": "stdout",
     "output_type": "stream",
     "text": [
      "It is Arm strong Number\n"
     ]
    }
   ],
   "source": [
    "#find number is armstrong number or not\n",
    "num = 153\n",
    "digits =[int(d) for d in str(num)]\n",
    "power = len(d)\n",
    "total = sum(pow(d,power) for d in digits)\n",
    "\n",
    "if total == num:\n",
    " print (\"It is Arm strong Number\")\n",
    "else:\n",
    "    print(\"Not an Arm strong\")"
   ]
  },
  {
   "cell_type": "markdown",
   "id": "59deed7a-a78e-4204-ab1c-de1b2f9f87b5",
   "metadata": {},
   "source": [
    "# Few Arm strong Numbers\n",
    "- 153\n",
    "- 407\n",
    "- 9474\n",
    "- 54748\n",
    "- 548834\n",
    "- 1741725, \n",
    "- 4210818\n",
    "- 115132219018763992565095597973971522401\n"
   ]
  },
  {
   "cell_type": "code",
   "execution_count": 20,
   "id": "874ac65e-5844-4309-8058-4469fd4f7a5a",
   "metadata": {},
   "outputs": [
    {
     "name": "stdin",
     "output_type": "stream",
     "text": [
      "Enter a Number:  153\n"
     ]
    },
    {
     "name": "stdout",
     "output_type": "stream",
     "text": [
      "153 is an armstrong Number\n"
     ]
    }
   ],
   "source": [
    "# checks a number whether it is armstrong or not\n",
    "\n",
    "\n",
    "n = int(input(\"Enter a Number: \"))\n",
    "\n",
    "s = n\n",
    "b = len(str(n))\n",
    "sum1 = 0\n",
    "\n",
    "while n != 0:\n",
    "    r = n%10\n",
    "    sum1 = sum1 + pow(r,b)\n",
    "    n=n//10\n",
    "if s == sum1:\n",
    "    print(f\"{s} is an armstrong Number\")\n",
    "else:\n",
    "    print(f\"{s} is not an Armstrong Number\")"
   ]
  },
  {
   "cell_type": "code",
   "execution_count": 19,
   "id": "25cfce02-4701-43b8-a6d1-ca078a8a0a8e",
   "metadata": {},
   "outputs": [
    {
     "name": "stdout",
     "output_type": "stream",
     "text": [
      "1\n",
      "2\n",
      "3\n",
      "4\n",
      "5\n",
      "6\n",
      "7\n",
      "8\n",
      "9\n",
      "153\n",
      "370\n",
      "371\n",
      "407\n"
     ]
    }
   ],
   "source": [
    "# printing  Armstrong numbers from 1 to 100000\n",
    "def is_armstrong(n):\n",
    "    dig = [int(d) for d in str(n)]\n",
    "    s = len(dig)\n",
    "    total = sum(pow(d,s) for d in dig)\n",
    "    return n == total\n",
    "\n",
    "for i in range(1,1000):\n",
    "    if is_armstrong(i): \n",
    "        print(i)\n",
    "\n"
   ]
  },
  {
   "cell_type": "code",
   "execution_count": 23,
   "id": "6b9cdac0-cf1a-4e5b-94b9-8185263754b6",
   "metadata": {},
   "outputs": [
    {
     "name": "stdout",
     "output_type": "stream",
     "text": [
      "1774\n"
     ]
    }
   ],
   "source": [
    "# sum of list of items\n",
    "l= [34,56,33,43,444,345,332,453,34]\n",
    "r= sum(l)\n",
    "print(r)"
   ]
  },
  {
   "cell_type": "code",
   "execution_count": 32,
   "id": "e54e94e3-bac4-4a28-bd9d-1b4f80ec46c6",
   "metadata": {},
   "outputs": [
    {
     "name": "stdout",
     "output_type": "stream",
     "text": [
      "1774\n"
     ]
    }
   ],
   "source": [
    "# sum of list of items\n",
    "nums= [34,56,33,43,444,345,332,453,34]\n",
    "\n",
    "def sum_lst(nums):\n",
    "    total = 0\n",
    "    for  x in nums:\n",
    "        total += x\n",
    "    return total\n",
    "\n",
    "print(sum_lst(nums))"
   ]
  },
  {
   "cell_type": "code",
   "execution_count": 39,
   "id": "c06ab154-51e2-47ab-8ebb-7fbc3fb170c3",
   "metadata": {},
   "outputs": [
    {
     "name": "stdout",
     "output_type": "stream",
     "text": [
      "[5, 8, 10, 12]\n"
     ]
    }
   ],
   "source": [
    "l1 = [2,3,4,5]\n",
    "l2 = [3,5,6,7]\n",
    "\n",
    "result = map(lambda x,y:x+y,l1,l2)\n",
    "print(list(result))\n",
    "    "
   ]
  },
  {
   "cell_type": "code",
   "execution_count": 41,
   "id": "7310d2d4-3ad1-42b4-aaa7-5ae380817a88",
   "metadata": {},
   "outputs": [
    {
     "data": {
      "text/plain": [
       "35"
      ]
     },
     "execution_count": 41,
     "metadata": {},
     "output_type": "execute_result"
    }
   ],
   "source": [
    "# Adding two lists\n",
    "l1 = [2,3,4,5]\n",
    "l2 = [3,5,6,7]\n",
    "\n",
    "sum(l1+l2)"
   ]
  },
  {
   "cell_type": "code",
   "execution_count": 42,
   "id": "3bc3a255-2cc1-4abf-a34f-333019eac04b",
   "metadata": {},
   "outputs": [
    {
     "name": "stdout",
     "output_type": "stream",
     "text": [
      "[2, 3, 4, 5, 3, 5, 6, 7]\n"
     ]
    }
   ],
   "source": [
    "# Adding list \n",
    "l1 = [2,3,4,5]\n",
    "l2 = [3,5,6,7]\n",
    "\n",
    "print(l1+l2)"
   ]
  },
  {
   "cell_type": "code",
   "execution_count": 98,
   "id": "07d6a88e-e1ea-4553-a303-843a15c0b7ac",
   "metadata": {},
   "outputs": [
    {
     "name": "stdin",
     "output_type": "stream",
     "text": [
      "Enter the string:  hello, how , are you/.\n"
     ]
    },
    {
     "name": "stdout",
     "output_type": "stream",
     "text": [
      "hello how  are you\n"
     ]
    }
   ],
   "source": [
    "# Punctuations Removing\n",
    "\n",
    "punctuations = (r\"\"\"'',.-\\/@#$%&*!?:;~`\"\"\")\n",
    "new_str= \"\"\n",
    "user_input = input(\"Enter the string: \")\n",
    "\n",
    "for c in user_input: \n",
    "    if c not in punctuations:\n",
    "        new_str += c\n",
    "print (new_str)\n"
   ]
  },
  {
   "cell_type": "code",
   "execution_count": 2,
   "id": "270a4ebb-53cf-4860-b5d2-4d7c11d77fa1",
   "metadata": {},
   "outputs": [
    {
     "name": "stdout",
     "output_type": "stream",
     "text": [
      "[7, 6, 5, 5, 4, 3, 3, 2]\n",
      "[7, 6, 5, 3, 5, 4, 3, 2]\n"
     ]
    }
   ],
   "source": [
    "# reverse the list\n",
    "l2= [2, 3, 4, 5, 3, 5, 6, 7]\n",
    "print(sorted(l2, reverse = True)) # sorted reverse\n",
    "\n",
    "print(l2[::-1]) # general reverse as it is"
   ]
  },
  {
   "cell_type": "code",
   "execution_count": 27,
   "id": "9beb607e-59a3-4409-ac50-9c3080ddcb5a",
   "metadata": {},
   "outputs": [
    {
     "name": "stdout",
     "output_type": "stream",
     "text": [
      "{'upper_letter': 11, 'lower_letter': 19}\n"
     ]
    }
   ],
   "source": [
    "def string_cnt(s):\n",
    "    d = {\"upper_letter\": 0, \"lower_letter\": 0}\n",
    "    for i in s:\n",
    "        if i.isupper():\n",
    "            d['upper_letter'] += 1\n",
    "        elif i.islower():\n",
    "            d['lower_letter'] += 1\n",
    "    return d\n",
    "\n",
    "print(string_cnt(\"This Is Dallas, Texas In USA And I Flew \"))"
   ]
  },
  {
   "cell_type": "code",
   "execution_count": 15,
   "id": "288e35dd-0651-4a4f-b66c-17e2e4375b42",
   "metadata": {},
   "outputs": [
    {
     "name": "stdout",
     "output_type": "stream",
     "text": [
      "[7, 14, 21, 28, 42, 49, 56, 63, 77, 84, 91, 98, 112, 119, 126, 133, 147, 154, 161, 168, 182, 189, 196]\n"
     ]
    }
   ],
   "source": [
    "# divisible by 7 but not by 5\n",
    "\n",
    "l = []\n",
    "\n",
    "for i in range(0,200):\n",
    "    if i%7 == 0 and i % 5 != 0:\n",
    "        l.append(i)\n",
    "\n",
    "print(l)"
   ]
  },
  {
   "cell_type": "code",
   "execution_count": 21,
   "id": "53cc1c22-973e-4565-89fa-01d8ec1e3c4e",
   "metadata": {},
   "outputs": [
    {
     "name": "stdout",
     "output_type": "stream",
     "text": [
      "[6, 9, 12, 15, 18, 201]\n"
     ]
    }
   ],
   "source": [
    "# Trip all numbers in a list using map\n",
    "\n",
    "lst = (2,3,4,5,6,67)\n",
    "\n",
    "result = map(lambda x:x+x+x,lst)\n",
    "\n",
    "print(list(result))"
   ]
  },
  {
   "cell_type": "code",
   "execution_count": 22,
   "id": "a4203b91-b1e0-43f7-b098-3fc082bb1bf0",
   "metadata": {},
   "outputs": [
    {
     "name": "stdout",
     "output_type": "stream",
     "text": [
      "7\n"
     ]
    }
   ],
   "source": [
    "#getting last element of list using negative indexing\n",
    "lst1 = [2, 3, 4, 5, 3, 5, 6, 7]\n",
    "print(lst1[-1])"
   ]
  },
  {
   "cell_type": "code",
   "execution_count": 25,
   "id": "31a5cd52-d213-4b75-9471-ec0c524f3bd9",
   "metadata": {},
   "outputs": [
    {
     "name": "stdout",
     "output_type": "stream",
     "text": [
      "0\n",
      "1\n",
      "1\n",
      "2\n",
      "3\n",
      "5\n",
      "8\n",
      "13\n",
      "21\n",
      "34\n"
     ]
    }
   ],
   "source": [
    "# febonacci numbers\n",
    "\n",
    "def feb(n):\n",
    "    if n <= 0:\n",
    "        return 0\n",
    "    elif n == 1:\n",
    "        return 1\n",
    "    else:\n",
    "        return feb(n-1)+feb(n-2)\n",
    "\n",
    "for i in range(10):\n",
    "    print (feb(i))"
   ]
  },
  {
   "cell_type": "code",
   "execution_count": 36,
   "id": "8c4083a9-a6cd-4fe3-bc99-7639873f794f",
   "metadata": {},
   "outputs": [
    {
     "name": "stdout",
     "output_type": "stream",
     "text": [
      "49\n"
     ]
    }
   ],
   "source": [
    "# program to calculate recursive sum of Lists\n",
    "\n",
    "def recur(lst):\n",
    "    total = 0\n",
    "    for e in lst:\n",
    "        if type(e) == type([]):\n",
    "            total = total + recur(e)\n",
    "        else:\n",
    "            total = total + e\n",
    "    return total\n",
    "print(recur([2,1,9,10,[2,6,7,9],3]))"
   ]
  },
  {
   "cell_type": "code",
   "execution_count": 37,
   "id": "1565ff07-47b4-45d4-9a25-87037f7c98bb",
   "metadata": {},
   "outputs": [
    {
     "name": "stdout",
     "output_type": "stream",
     "text": [
      "in there\n"
     ]
    }
   ],
   "source": [
    "# to check whether the key is already in the dict or not\n",
    "\n",
    "my_dict = {1:2,2:3,3:4,5:10}\n",
    "if 2 in my_dict:\n",
    "    print(\"in there\")\n",
    "else:\n",
    "    print(\"Not There\")"
   ]
  },
  {
   "cell_type": "code",
   "execution_count": 40,
   "id": "32545f1d-a75d-4de3-9f64-23243b82edce",
   "metadata": {},
   "outputs": [
    {
     "name": "stdout",
     "output_type": "stream",
     "text": [
      "{'this': 2, 'is': 3, 'a': 1, 'test': 4, 'case': 2, 'for': 3, 'checking': 1, 'how': 1}\n"
     ]
    }
   ],
   "source": [
    "# count the each word in a given sentense\n",
    "\n",
    "def count(str):\n",
    "    counts = dict()\n",
    "    str=str.split()\n",
    "    for word in str:\n",
    "        if word in counts:\n",
    "            counts[word] += 1\n",
    "        else:\n",
    "            counts[word] = 1\n",
    "    return counts\n",
    "\n",
    "print(count(\"this is a test case test for is checking  for how for this is test case test\"))\n",
    "        "
   ]
  },
  {
   "cell_type": "code",
   "execution_count": 47,
   "id": "5dfa111c-257f-4e9c-abf0-cbaba2d7ee69",
   "metadata": {},
   "outputs": [
    {
     "name": "stdin",
     "output_type": "stream",
     "text": [
      "Enter a string:  hello how are you\n"
     ]
    },
    {
     "name": "stdout",
     "output_type": "stream",
     "text": [
      "17\n"
     ]
    }
   ],
   "source": [
    "# calculate the length of the string\n",
    "user_input= input(\"Enter a string: \")\n",
    "\n",
    "try:\n",
    "    float(user_input)\n",
    "    print(\"Enter a String\")\n",
    "except ValueError:\n",
    "    print(len(user_input"
   ]
  },
  {
   "cell_type": "code",
   "execution_count": 48,
   "id": "46fe50e0-0fcb-45c6-b8cd-e810030afb88",
   "metadata": {},
   "outputs": [
    {
     "name": "stdout",
     "output_type": "stream",
     "text": [
      "17\n"
     ]
    }
   ],
   "source": [
    "# calculate the length of the string\n",
    "str= \"hello how are you\"\n",
    "\n",
    "print(len(str))"
   ]
  },
  {
   "cell_type": "code",
   "execution_count": 49,
   "id": "2ba08166-cd3f-48ee-b4b0-cdc30a3a21b7",
   "metadata": {},
   "outputs": [
    {
     "name": "stdout",
     "output_type": "stream",
     "text": [
      "17\n"
     ]
    }
   ],
   "source": [
    "# calculate the length of the string\n",
    "def str_length(str):\n",
    "    count = 0\n",
    "    for char in str:\n",
    "        count += 1\n",
    "    return count\n",
    "    \n",
    "print(str_length(\"hello how are you\"))"
   ]
  },
  {
   "cell_type": "code",
   "execution_count": 50,
   "id": "926e6566-543e-451f-9793-9097836f79d1",
   "metadata": {},
   "outputs": [
    {
     "name": "stdout",
     "output_type": "stream",
     "text": [
      "[{}, {}, {}, {}, {}, {}, {}, {}, {}, {}]\n",
      "[{}, {}, {}, {}, {}, {}, {}, {}, {}, {}]\n"
     ]
    }
   ],
   "source": [
    "# empty dicts inside a list\n",
    "\n",
    "s= [{} for _ in range (10)]\n",
    "print(s)\n",
    "\n",
    "print([{} for _ in range (10)])"
   ]
  },
  {
   "cell_type": "code",
   "execution_count": 58,
   "id": "1c19e227-1626-4174-8c21-223e5ba987cb",
   "metadata": {},
   "outputs": [
    {
     "name": "stdout",
     "output_type": "stream",
     "text": [
      "[1, 2, 3, 4, [5, 6, 7, 8]]\n",
      "[1, 2, 3, 4, 5, 6, 7, 8]\n",
      "[5, 6, 7, 8, 1, 2, 3, 4]\n"
     ]
    }
   ],
   "source": [
    "# list extension without append\n",
    "l1=[1,2,3,4]\n",
    "l2=[5,6,7,8]\n",
    "l1.append(l2)\n",
    "print(l1)\n",
    "\n",
    "l1=[1,2,3,4]\n",
    "l1.extend(l2)\n",
    "print(l1)\n",
    "\n",
    "l1=[1,2,3,4]\n",
    "l1[:0]=l2\n",
    "print(l1)"
   ]
  },
  {
   "cell_type": "code",
   "execution_count": 63,
   "id": "121e5b2f-5613-40d3-9e51-cc03ab18ac83",
   "metadata": {},
   "outputs": [
    {
     "name": "stdout",
     "output_type": "stream",
     "text": [
      "'1',1st and '1', last element is same\n",
      "Both are same \n"
     ]
    }
   ],
   "source": [
    "# check if first and last element of list is same\n",
    "\n",
    "lst = [1, 2, 3, 4, 5, 6, 7, 8,1]\n",
    "\n",
    "if lst[0] == lst[-1]:\n",
    "    print(f\"'{lst[0]}',1st and '{lst[-1]}', last element is same\")\n",
    "else:\n",
    "    print(f\" '{lst[0]}' ,1st and '{lst[-1]}', last element is not same\")\n",
    "\n",
    "\n",
    "# same but with the function\n",
    "def check_num(lst):\n",
    "    first = lst[0]\n",
    "    last = lst[-1]\n",
    "    if first == last:\n",
    "        return (\"Both are same \")\n",
    "    else:\n",
    "        return(\"Not Same\")\n",
    "\n",
    "print(check_num([1, 2, 3, 4, 5, 6, 7, 8,1,]))"
   ]
  },
  {
   "cell_type": "code",
   "execution_count": 72,
   "id": "8ad467a1-7d6e-44a9-a6a0-4b5ce803dd8a",
   "metadata": {},
   "outputs": [
    {
     "name": "stdout",
     "output_type": "stream",
     "text": [
      "['hello', '', ' how are you', ' are you doing', '', ' ok', '']\n",
      "['How', 'are', 'you', 'and', 'where', 'are', 'you', 'from']\n",
      "['How', 'are', 'you', 'and', 'where', 'are', 'you', 'from']\n"
     ]
    }
   ],
   "source": [
    "#splitting text data with multiple delimiters\n",
    "import re\n",
    "text = \"hello!, how are you, are you doing?, ok:\"\n",
    "d= re.split(r'[.,{}/\\|\\n:;?!]' , text)\n",
    "print(d)\n",
    "\n",
    "# with spaces\n",
    "e = \"How are you and where are you from\"\n",
    "print(e.split())\n",
    "\n",
    "# with single delimiter\n",
    "f= \"How,are,you,and,where,are,you,from\"\n",
    "print(f.split(\",\"))\n",
    "\n",
    "# a text which splits on the bases of any delimeter will be taken as list"
   ]
  },
  {
   "cell_type": "code",
   "execution_count": 84,
   "id": "232fd62c-7858-47cb-a064-583b47789d20",
   "metadata": {},
   "outputs": [
    {
     "name": "stdout",
     "output_type": "stream",
     "text": [
      "hello, how, are, you, are, you, doing, ok:\n",
      "hello,  how,  are,    you,  are,  you,  doing, ok:\n"
     ]
    }
   ],
   "source": [
    "# all the white spaces was removed and only single white space left\n",
    "\n",
    "import re\n",
    "\n",
    "text = \"hello,  how,  are,    you,  are,  you,  doing, ok:\"\n",
    "r = (text.split(\",\"))\n",
    "r1= list(r)\n",
    "print(re.sub(r'\\s+',' ',text))\n",
    "r = (text.split(\",\"))\n",
    "print(text)"
   ]
  },
  {
   "cell_type": "code",
   "execution_count": 87,
   "id": "a3184f7f-9418-4031-8baa-7341988dd98c",
   "metadata": {},
   "outputs": [
    {
     "name": "stdout",
     "output_type": "stream",
     "text": [
      "1 1\n",
      "2 2\n",
      "3 3\n",
      "4 4\n",
      "5 5\n",
      "6 6\n",
      "7 7\n",
      "8 8\n"
     ]
    }
   ],
   "source": [
    "#accessing Index as we needed\n",
    "\n",
    "e3 = [1, 2, 3, 4, 5, 6, 7, 8]\n",
    "\n",
    "for i, vals in enumerate(e3, start =1):\n",
    "    print (i,vals)"
   ]
  },
  {
   "cell_type": "code",
   "execution_count": 97,
   "id": "d904c030-2103-47a9-864c-2e9709a64d38",
   "metadata": {},
   "outputs": [
    {
     "name": "stdout",
     "output_type": "stream",
     "text": [
      "04:13:11 PM\n"
     ]
    }
   ],
   "source": [
    "#get current time and  date\n",
    "import pytz\n",
    "import datetime\n",
    "\n",
    "time_TX = pytz.timezone('America/chicago')\n",
    "print(datetime.datetime.now(time_TX).strftime('%I:%M:%S %p'))"
   ]
  },
  {
   "cell_type": "code",
   "execution_count": 4,
   "id": "d7f830aa-5dbb-472f-9709-ecf21212e300",
   "metadata": {},
   "outputs": [
    {
     "name": "stdout",
     "output_type": "stream",
     "text": [
      "[11, 9, 10]\n",
      "[9, 12, 18]\n",
      "[13, 18, 13]\n"
     ]
    }
   ],
   "source": [
    "#python command to add two metrices using nested loop\n",
    "met1=[[7,6,8],\n",
    "      [4,5,6],\n",
    "      [7,9,3]]\n",
    "\n",
    "met2 = [[4,3,2],\n",
    "        [5,7,12],\n",
    "        [6,9,10]]\n",
    "\n",
    "x = [[0,0,0],\n",
    "     [0,0,0],\n",
    "     [0,0,0]]\n",
    "\n",
    "\n",
    "for i in range (len(x)):\n",
    "    for j in range (len(x[0])):\n",
    "        x[i][j]= met1[i][j] + met2[i][j]\n",
    "\n",
    "for r in x:\n",
    "    print(r)"
   ]
  },
  {
   "cell_type": "code",
   "execution_count": 6,
   "id": "5ce7de80-5031-4b4d-80b0-1382d9218a09",
   "metadata": {},
   "outputs": [
    {
     "name": "stdin",
     "output_type": "stream",
     "text": [
      "Enter a Number:  9\n"
     ]
    },
    {
     "name": "stdout",
     "output_type": "stream",
     "text": [
      "9 x 1 = 9\n",
      "9 x 2 = 18\n",
      "9 x 3 = 27\n",
      "9 x 4 = 36\n",
      "9 x 5 = 45\n",
      "9 x 6 = 54\n",
      "9 x 7 = 63\n",
      "9 x 8 = 72\n",
      "9 x 9 = 81\n",
      "9 x 10 = 90\n"
     ]
    }
   ],
   "source": [
    "#multiplication Table in python \n",
    "N = int(input(\"Enter a Number: \"))\n",
    "\n",
    "for i in range (1,11):\n",
    "    print(N, \"x\",i,\"=\", N*i)\n",
    "\n"
   ]
  },
  {
   "cell_type": "code",
   "execution_count": 10,
   "id": "c92b82cc-8f2d-4017-b229-fbbf350dd6f5",
   "metadata": {},
   "outputs": [
    {
     "name": "stdout",
     "output_type": "stream",
     "text": [
      "Name Kiran\n",
      "roll 2\n",
      "from Guntur\n"
     ]
    }
   ],
   "source": [
    "#Access both keys and values using items() function from dictionary\n",
    "\n",
    "details= {'Name':'Kiran', 'roll': 2, 'from':'Guntur'}\n",
    "\n",
    "for i,j in details.items():\n",
    "    print(i,j)"
   ]
  },
  {
   "cell_type": "code",
   "execution_count": 17,
   "id": "72e93302-a21c-4470-a936-f53022060f9e",
   "metadata": {},
   "outputs": [
    {
     "name": "stdin",
     "output_type": "stream",
     "text": [
      "Enter a string seperated by '-':  green-orange-purple-pink-oxyzen-white-black\n"
     ]
    },
    {
     "name": "stdout",
     "output_type": "stream",
     "text": [
      "black-green-orange-oxyzen-pink-purple-white\n"
     ]
    }
   ],
   "source": [
    "# sorting the string values seperated by \"-\"\n",
    "# input = \"green-orange-purple-pink-oxyzen-white-black\"\n",
    "\n",
    "items =[n for n in input(\"Enter a string seperated by '-': \").split(\"-\")]\n",
    "items.sort()\n",
    "print(\"-\".join(items))"
   ]
  },
  {
   "cell_type": "code",
   "execution_count": null,
   "id": "166cfb43-5c2b-489a-b14b-479c9a6f5a06",
   "metadata": {},
   "outputs": [],
   "source": []
  },
  {
   "cell_type": "code",
   "execution_count": 18,
   "id": "4b4cea17-d7d9-4008-b51e-114594330f3f",
   "metadata": {},
   "outputs": [
    {
     "name": "stdout",
     "output_type": "stream",
     "text": [
      "5\n"
     ]
    }
   ],
   "source": [
    "# program to detect no of local variables in a function\n",
    "def vinay():\n",
    "    x=3\n",
    "    y=6\n",
    "    u=10\n",
    "    f=\"hello\"\n",
    "    z=24\n",
    "\n",
    "print(vinay.__code__.co_nlocals)"
   ]
  },
  {
   "cell_type": "code",
   "execution_count": 27,
   "id": "bd00dc69-ec04-415b-80a1-56ac88e8f6e4",
   "metadata": {},
   "outputs": [
    {
     "name": "stdin",
     "output_type": "stream",
     "text": [
      "Enter a number:  3\n",
      "Enter a number:  4\n",
      "Enter a number:  5\n",
      "Enter a number:  6\n",
      "Enter a number:  10\n"
     ]
    },
    {
     "name": "stdout",
     "output_type": "stream",
     "text": [
      "Users_List =  [3, 4, 5, 6, 10]\n"
     ]
    }
   ],
   "source": [
    "#5 user inputs using list comprehension\n",
    "num = [int(input(\"Enter a number: \")) for i in range (0,5)]\n",
    "print(\"Users_List = \", num)"
   ]
  },
  {
   "cell_type": "code",
   "execution_count": null,
   "id": "9d3b8e02-50a1-444b-9e77-d65154a50c5c",
   "metadata": {},
   "outputs": [],
   "source": []
  },
  {
   "cell_type": "code",
   "execution_count": null,
   "id": "67c02fef-fa70-475d-9b68-d9abc3eea7ad",
   "metadata": {},
   "outputs": [],
   "source": []
  },
  {
   "cell_type": "code",
   "execution_count": null,
   "id": "3f37a442-973a-45f3-a42d-61b5f192c46b",
   "metadata": {},
   "outputs": [],
   "source": []
  },
  {
   "cell_type": "code",
   "execution_count": null,
   "id": "60484fde-417f-4e4b-994b-a5e641525744",
   "metadata": {},
   "outputs": [],
   "source": []
  },
  {
   "cell_type": "code",
   "execution_count": null,
   "id": "96382e8f-ecfa-4945-9fc9-6c63670099fe",
   "metadata": {},
   "outputs": [],
   "source": []
  },
  {
   "cell_type": "code",
   "execution_count": null,
   "id": "aa797ace-b6cd-485a-a24e-8e7fd54c97c4",
   "metadata": {},
   "outputs": [],
   "source": []
  },
  {
   "cell_type": "code",
   "execution_count": null,
   "id": "64ffb508-525c-4e0a-aa5a-6189b7f70e65",
   "metadata": {},
   "outputs": [],
   "source": []
  },
  {
   "cell_type": "code",
   "execution_count": null,
   "id": "fe993490-f2f7-4bf8-abba-46c9343f88c2",
   "metadata": {},
   "outputs": [],
   "source": []
  },
  {
   "cell_type": "code",
   "execution_count": null,
   "id": "c05be8e6-2956-48eb-b1a9-58c65e923b19",
   "metadata": {},
   "outputs": [],
   "source": []
  },
  {
   "cell_type": "code",
   "execution_count": null,
   "id": "4ceb2300-3513-44b7-be34-89e0fa349949",
   "metadata": {},
   "outputs": [],
   "source": []
  },
  {
   "cell_type": "code",
   "execution_count": null,
   "id": "96fc11de-bbd2-40ee-b733-3b73c5d57f89",
   "metadata": {},
   "outputs": [],
   "source": []
  },
  {
   "cell_type": "code",
   "execution_count": null,
   "id": "e1296340-c541-4eec-b499-d37a9becc0ca",
   "metadata": {},
   "outputs": [],
   "source": []
  },
  {
   "cell_type": "code",
   "execution_count": null,
   "id": "4b9e9920-e21b-4dac-8d6c-a3ca7f66a10e",
   "metadata": {},
   "outputs": [],
   "source": []
  },
  {
   "cell_type": "code",
   "execution_count": null,
   "id": "6c82106f-f46a-451c-b35a-e0dd7f37d74f",
   "metadata": {},
   "outputs": [],
   "source": []
  },
  {
   "cell_type": "code",
   "execution_count": null,
   "id": "eadb08fa-4587-41ba-8e84-45fc8057021d",
   "metadata": {},
   "outputs": [],
   "source": []
  }
 ],
 "metadata": {
  "kernelspec": {
   "display_name": "Python [conda env:base] *",
   "language": "python",
   "name": "conda-base-py"
  },
  "language_info": {
   "codemirror_mode": {
    "name": "ipython",
    "version": 3
   },
   "file_extension": ".py",
   "mimetype": "text/x-python",
   "name": "python",
   "nbconvert_exporter": "python",
   "pygments_lexer": "ipython3",
   "version": "3.12.7"
  }
 },
 "nbformat": 4,
 "nbformat_minor": 5
}
